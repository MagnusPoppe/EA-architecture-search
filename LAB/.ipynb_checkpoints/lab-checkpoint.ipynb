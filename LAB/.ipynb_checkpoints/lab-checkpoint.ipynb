{
 "cells": [
  {
   "cell_type": "code",
   "execution_count": 78,
   "metadata": {},
   "outputs": [
    {
     "ename": "ModuleNotFoundError",
     "evalue": "No module named 'bokeh.charts'",
     "output_type": "error",
     "traceback": [
      "\u001b[0;31m---------------------------------------------------------------------------\u001b[0m",
      "\u001b[0;31mModuleNotFoundError\u001b[0m                       Traceback (most recent call last)",
      "\u001b[0;32m<ipython-input-78-7940a34a4b68>\u001b[0m in \u001b[0;36m<module>\u001b[0;34m()\u001b[0m\n\u001b[1;32m     10\u001b[0m \u001b[0;34m\u001b[0m\u001b[0m\n\u001b[1;32m     11\u001b[0m \u001b[0;32mimport\u001b[0m \u001b[0mbokeh\u001b[0m\u001b[0;34m.\u001b[0m\u001b[0mplotting\u001b[0m \u001b[0;32mas\u001b[0m \u001b[0mplotter\u001b[0m\u001b[0;34m\u001b[0m\u001b[0m\n\u001b[0;32m---> 12\u001b[0;31m \u001b[0;32mimport\u001b[0m \u001b[0mbokeh\u001b[0m\u001b[0;34m.\u001b[0m\u001b[0mcharts\u001b[0m \u001b[0;32mas\u001b[0m \u001b[0mcharts\u001b[0m\u001b[0;34m\u001b[0m\u001b[0m\n\u001b[0m\u001b[1;32m     13\u001b[0m \u001b[0;32mfrom\u001b[0m \u001b[0mbokeh\u001b[0m\u001b[0;34m.\u001b[0m\u001b[0mio\u001b[0m \u001b[0;32mimport\u001b[0m \u001b[0moutput_notebook\u001b[0m\u001b[0;34m\u001b[0m\u001b[0m\n\u001b[1;32m     14\u001b[0m \u001b[0moutput_notebook\u001b[0m\u001b[0;34m(\u001b[0m\u001b[0;34m)\u001b[0m\u001b[0;34m\u001b[0m\u001b[0m\n",
      "\u001b[0;31mModuleNotFoundError\u001b[0m: No module named 'bokeh.charts'"
     ]
    }
   ],
   "source": [
    "import os\n",
    "if not os.path.basename(os.getcwd()) in [\"ea-nas\", \"EA-architecture-search\"]:\n",
    "    os.chdir(\"../\")\n",
    "\n",
    "\n",
    "import sys\n",
    "import pandas as pd\n",
    "import LAB.common as fn\n",
    "import LAB.report_functions as rfn\n",
    "\n",
    "import bokeh.plotting as plotter\n",
    "import bokeh.charts as charts\n",
    "from bokeh.io import output_notebook\n",
    "output_notebook()"
   ]
  },
  {
   "cell_type": "markdown",
   "metadata": {},
   "source": [
    "# INTERPRETATION OF EA-NAS RESULTS\n",
    "This notebook is meant to interpret the results of simulations ran using EA-NAS.\n",
    "* Analyzes multiple individs\n",
    "* Groups individs by their versions\n",
    "\n",
    "Look at the common.py file for more functions to use for analysis"
   ]
  },
  {
   "cell_type": "markdown",
   "metadata": {},
   "source": [
    "## Load in simulation results: \n",
    "\n",
    "Set the correct paths to: \n",
    "* Configuraiton file with settings for the simulation\n",
    "* Path to results save directory"
   ]
  },
  {
   "cell_type": "code",
   "execution_count": 2,
   "metadata": {},
   "outputs": [],
   "source": [
    "# Configuration file:\n",
    "config_file = \"./datasets/cifar-10-mp.json\"\n",
    "\n",
    "# Path to run results directory: \n",
    "run_path = \"./results/8x2/\""
   ]
  },
  {
   "cell_type": "code",
   "execution_count": 3,
   "metadata": {},
   "outputs": [
    {
     "name": "stdout",
     "output_type": "stream",
     "text": [
      "Loaded 14 modules\n"
     ]
    }
   ],
   "source": [
    "# Load configuration used:\n",
    "config = fn.load_json_config(config_file)\n",
    "\n",
    "# Loads all modules from a given run:\n",
    "all_modules = fn.load_all_modules_from_run(run_path)\n",
    "\n",
    "# Reporting on what modules are loaded: \n",
    "print(f\"Loaded {sum([len(val) for val in all_modules.values()])} modules\")"
   ]
  },
  {
   "cell_type": "code",
   "execution_count": 4,
   "metadata": {},
   "outputs": [
    {
     "name": "stdout",
     "output_type": "stream",
     "text": [
      "Loaded 9 reports\n"
     ]
    }
   ],
   "source": [
    "reports = {}\n",
    "for name, modules in all_modules.items():\n",
    "    reports[name] = {\n",
    "        m.version: fn.progress_report(m.report, m.ID) \n",
    "        for m in modules if m.report\n",
    "    }\n",
    "print(f\"Loaded {sum([len(val) for val in reports.values()])} reports\")"
   ]
  },
  {
   "cell_type": "code",
   "execution_count": 5,
   "metadata": {},
   "outputs": [
    {
     "name": "stdout",
     "output_type": "stream",
     "text": [
      "\tUlrik with versions [v0]\n",
      "\tJoel with versions [v0]\n",
      "\tRuth with versions [v0]\n",
      "\tAnnelise with versions [v0]\n",
      "\tAngelika with versions [v0, v2]\n",
      "\tAndres with versions [v0, v2]\n",
      "\tEdel with versions [v0, v2]\n",
      "\tTonny with versions [v0]\n",
      "\tGretha with versions [v0]\n",
      "\tNicoline with versions [v0]\n",
      "\tNiklas with versions [v0]\n"
     ]
    }
   ],
   "source": [
    "# Modules loaded: \n",
    "for key, val in all_modules.items():\n",
    "    print(f\"\\t{key} with versions [v{', v'.join([str(m.version) for m in val])}]\")"
   ]
  },
  {
   "cell_type": "markdown",
   "metadata": {},
   "source": [
    "## Interpreting results per training session: \n",
    "Looking at the average gains/losses of performance per class over multiple training sessions below. Gains are positive numbers while losses are negative... "
   ]
  },
  {
   "cell_type": "code",
   "execution_count": 6,
   "metadata": {},
   "outputs": [
    {
     "data": {
      "text/plain": [
       "0, Airplane      0.010975\n",
       "1, Automobile   -0.000591\n",
       "2, Bird         -0.005322\n",
       "3, Cat           0.000318\n",
       "4, Deer         -0.007780\n",
       "5, Dog          -0.015242\n",
       "6, Frog         -0.003853\n",
       "7, Horse        -0.011963\n",
       "8, Ship         -0.003379\n",
       "9, Truck        -0.008168\n",
       "micro avg       -0.004900\n",
       "macro avg       -0.004500\n",
       "weighted avg    -0.004500\n",
       "dtype: float64"
      ]
     },
     "execution_count": 6,
     "metadata": {},
     "output_type": "execute_result"
    }
   ],
   "source": [
    "# Changes over training sessions:\n",
    "active_report = reports[\"Angelika\"][0]\n",
    "diff_dicts = [\n",
    "    rfn.score_changes_per_training_session(df) \n",
    "    for df in rfn.find_multi_session_reports(reports)\n",
    "]\n",
    "pd.concat(diff_dicts).mean()"
   ]
  },
  {
   "cell_type": "markdown",
   "metadata": {},
   "source": [
    "### Plot of change per training session\n",
    "Splitting reports by training session number:"
   ]
  },
  {
   "cell_type": "code",
   "execution_count": 40,
   "metadata": {},
   "outputs": [],
   "source": [
    "multi_session_reports = rfn.find_multi_session_reports(reports)\n",
    "sessions = []\n",
    "for session_report in multi_session_reports:\n",
    "    dfs = rfn.split_data_into_sessions(session_report)\n",
    "    for sess_number, df in enumerate(dfs):\n",
    "        if len(sessions) <= sess_number:\n",
    "            sessions += [[]]\n",
    "        sessions[sess_number] += [df.loc['f1-score']]"
   ]
  },
  {
   "cell_type": "code",
   "execution_count": 66,
   "metadata": {},
   "outputs": [],
   "source": [
    "x_axis = []\n",
    "y_axis = []\n",
    "for sess in sessions:\n",
    "    merged = pd.DataFrame(sess)\n",
    "    merged.index = range(len(merged.index))\n",
    "    for col in merged.columns:\n",
    "        x_axis += [[merged.loc(axis=1)[col].values]]\n"
   ]
  },
  {
   "cell_type": "code",
   "execution_count": 67,
   "metadata": {},
   "outputs": [
    {
     "data": {
      "text/html": [
       "<div>\n",
       "<style scoped>\n",
       "    .dataframe tbody tr th:only-of-type {\n",
       "        vertical-align: middle;\n",
       "    }\n",
       "\n",
       "    .dataframe tbody tr th {\n",
       "        vertical-align: top;\n",
       "    }\n",
       "\n",
       "    .dataframe thead th {\n",
       "        text-align: right;\n",
       "    }\n",
       "</style>\n",
       "<table border=\"1\" class=\"dataframe\">\n",
       "  <thead>\n",
       "    <tr style=\"text-align: right;\">\n",
       "      <th></th>\n",
       "      <th>0, Airplane</th>\n",
       "      <th>1, Automobile</th>\n",
       "      <th>2, Bird</th>\n",
       "      <th>3, Cat</th>\n",
       "      <th>4, Deer</th>\n",
       "      <th>5, Dog</th>\n",
       "      <th>6, Frog</th>\n",
       "      <th>7, Horse</th>\n",
       "      <th>8, Ship</th>\n",
       "      <th>9, Truck</th>\n",
       "      <th>micro avg</th>\n",
       "      <th>macro avg</th>\n",
       "      <th>weighted avg</th>\n",
       "    </tr>\n",
       "  </thead>\n",
       "  <tbody>\n",
       "    <tr>\n",
       "      <th>0</th>\n",
       "      <td>0.287516</td>\n",
       "      <td>0.436672</td>\n",
       "      <td>0.231451</td>\n",
       "      <td>0.224651</td>\n",
       "      <td>0.243861</td>\n",
       "      <td>0.123474</td>\n",
       "      <td>0.357528</td>\n",
       "      <td>0.283090</td>\n",
       "      <td>0.386068</td>\n",
       "      <td>0.316951</td>\n",
       "      <td>0.2959</td>\n",
       "      <td>0.289126</td>\n",
       "      <td>0.289126</td>\n",
       "    </tr>\n",
       "    <tr>\n",
       "      <th>1</th>\n",
       "      <td>0.655866</td>\n",
       "      <td>0.734152</td>\n",
       "      <td>0.491637</td>\n",
       "      <td>0.429395</td>\n",
       "      <td>0.556863</td>\n",
       "      <td>0.492072</td>\n",
       "      <td>0.653774</td>\n",
       "      <td>0.676221</td>\n",
       "      <td>0.752163</td>\n",
       "      <td>0.675746</td>\n",
       "      <td>0.6110</td>\n",
       "      <td>0.611789</td>\n",
       "      <td>0.611789</td>\n",
       "    </tr>\n",
       "    <tr>\n",
       "      <th>2</th>\n",
       "      <td>0.000000</td>\n",
       "      <td>0.000000</td>\n",
       "      <td>0.000000</td>\n",
       "      <td>0.000000</td>\n",
       "      <td>0.000000</td>\n",
       "      <td>0.000000</td>\n",
       "      <td>0.181818</td>\n",
       "      <td>0.000000</td>\n",
       "      <td>0.000000</td>\n",
       "      <td>0.000000</td>\n",
       "      <td>0.1000</td>\n",
       "      <td>0.018182</td>\n",
       "      <td>0.018182</td>\n",
       "    </tr>\n",
       "  </tbody>\n",
       "</table>\n",
       "</div>"
      ],
      "text/plain": [
       "   0, Airplane  1, Automobile   2, Bird    3, Cat   4, Deer    5, Dog  \\\n",
       "0     0.287516       0.436672  0.231451  0.224651  0.243861  0.123474   \n",
       "1     0.655866       0.734152  0.491637  0.429395  0.556863  0.492072   \n",
       "2     0.000000       0.000000  0.000000  0.000000  0.000000  0.000000   \n",
       "\n",
       "    6, Frog  7, Horse   8, Ship  9, Truck  micro avg  macro avg  weighted avg  \n",
       "0  0.357528  0.283090  0.386068  0.316951     0.2959   0.289126      0.289126  \n",
       "1  0.653774  0.676221  0.752163  0.675746     0.6110   0.611789      0.611789  \n",
       "2  0.181818  0.000000  0.000000  0.000000     0.1000   0.018182      0.018182  "
      ]
     },
     "execution_count": 67,
     "metadata": {},
     "output_type": "execute_result"
    }
   ],
   "source": [
    "merged"
   ]
  },
  {
   "cell_type": "code",
   "execution_count": 77,
   "metadata": {},
   "outputs": [
    {
     "ename": "NameError",
     "evalue": "name 'charts' is not defined",
     "output_type": "error",
     "traceback": [
      "\u001b[0;31m---------------------------------------------------------------------------\u001b[0m",
      "\u001b[0;31mNameError\u001b[0m                                 Traceback (most recent call last)",
      "\u001b[0;32m<ipython-input-77-dbb439322027>\u001b[0m in \u001b[0;36m<module>\u001b[0;34m()\u001b[0m\n\u001b[0;32m----> 1\u001b[0;31m plotter.show(charts.Bar(\n\u001b[0m\u001b[1;32m      2\u001b[0m     \u001b[0mmerged\u001b[0m\u001b[0;34m\u001b[0m\u001b[0m\n\u001b[1;32m      3\u001b[0m ))\n",
      "\u001b[0;31mNameError\u001b[0m: name 'charts' is not defined"
     ]
    }
   ],
   "source": [
    "plotter.show(charts.Bar(\n",
    "    merged\n",
    "))\n"
   ]
  },
  {
   "cell_type": "code",
   "execution_count": null,
   "metadata": {},
   "outputs": [],
   "source": []
  }
 ],
 "metadata": {
  "kernelspec": {
   "display_name": "Python 3",
   "language": "python",
   "name": "python3"
  },
  "language_info": {
   "codemirror_mode": {
    "name": "ipython",
    "version": 3
   },
   "file_extension": ".py",
   "mimetype": "text/x-python",
   "name": "python",
   "nbconvert_exporter": "python",
   "pygments_lexer": "ipython3",
   "version": "3.6.4"
  }
 },
 "nbformat": 4,
 "nbformat_minor": 1
}
