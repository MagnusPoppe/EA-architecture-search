{
 "cells": [
  {
   "cell_type": "code",
   "execution_count": 1,
   "metadata": {},
   "outputs": [
    {
     "data": {
      "text/html": [
       "<script type=\"text/javascript\">window.PlotlyConfig = {MathJaxConfig: 'local'};</script><script type=\"text/javascript\">if (window.MathJax) {MathJax.Hub.Config({SVG: {font: \"STIX-Web\"}});}</script><script>requirejs.config({paths: { 'plotly': ['https://cdn.plot.ly/plotly-latest.min']},});if(!window._Plotly) {require(['plotly'],function(plotly) {window._Plotly=plotly;});}</script>"
      ]
     },
     "metadata": {},
     "output_type": "execute_result"
    }
   ],
   "source": [
    "import os\n",
    "if not os.path.basename(os.getcwd()) in [\"ea-nas\", \"EA-architecture-search\"]:\n",
    "    os.chdir(\"../\")\n",
    "\n",
    "\n",
    "import sys\n",
    "import pandas as pd\n",
    "import LAB.common as fn\n",
    "import LAB.report_functions as rfn\n",
    "from src.configuration import Configuration\n",
    "\n",
    "import plotly\n",
    "import plotly.graph_objs as go\n",
    "\n",
    "plotly.offline.init_notebook_mode(connected=True)"
   ]
  },
  {
   "cell_type": "markdown",
   "metadata": {},
   "source": [
    "# INTERPRETATION OF EA-NAS RESULTS\n",
    "This notebook is meant to interpret the results of simulations ran using EA-NAS.\n",
    "* Analyzes multiple individs\n",
    "* Groups individs by their versions\n",
    "\n",
    "Look at the common.py file for more functions to use for analysis"
   ]
  },
  {
   "cell_type": "markdown",
   "metadata": {},
   "source": [
    "## Load in simulation results: \n",
    "\n",
    "Set the correct paths to: \n",
    "* Configuraiton file with settings for the simulation\n",
    "* Path to results save directory"
   ]
  },
  {
   "cell_type": "code",
   "execution_count": 2,
   "metadata": {},
   "outputs": [],
   "source": [
    "# Configuration file:\n",
    "config_file = \"./LAB/notebook.json\""
   ]
  },
  {
   "cell_type": "code",
   "execution_count": 3,
   "metadata": {},
   "outputs": [
    {
     "name": "stdout",
     "output_type": "stream",
     "text": [
      "Loaded 13 modules\n"
     ]
    }
   ],
   "source": [
    "# Load configuration used:\n",
    "config = Configuration.from_json(config_file)\n",
    "\n",
    "# Loads all modules from a given run:\n",
    "all_modules_grouped = fn.load_all_modules_from_run(f\"./results/{config.results_name}\")\n",
    "\n",
    "# Reporting on what modules are loaded: \n",
    "print(f\"Loaded {sum([len(val) for val in all_modules_grouped.values()])} modules\")"
   ]
  },
  {
   "cell_type": "code",
   "execution_count": 4,
   "metadata": {},
   "outputs": [
    {
     "name": "stdout",
     "output_type": "stream",
     "text": [
      "Loaded 8 reports\n"
     ]
    }
   ],
   "source": [
    "reports = {}\n",
    "for name, modules in all_modules_grouped.items():\n",
    "    reports[name] = {\n",
    "        m.version: fn.progress_report(m.report, m.ID) \n",
    "        for m in modules if m.report\n",
    "    }\n",
    "print(f\"Loaded {sum([len(val) for val in reports.values()])} reports\")"
   ]
  },
  {
   "cell_type": "code",
   "execution_count": 5,
   "metadata": {},
   "outputs": [
    {
     "name": "stdout",
     "output_type": "stream",
     "text": [
      "\tDamian with versions [v0]\n",
      "\tMathias with versions [v0]\n",
      "\tJelena with versions [v6, v8, v0, v12, v14, v2, v4, v16, v18, v20, v10]\n"
     ]
    }
   ],
   "source": [
    "# Modules loaded: \n",
    "for key, val in all_modules_grouped.items():\n",
    "    print(f\"\\t{key} with versions [v{', v'.join([str(m.version) for m in val])}]\")"
   ]
  },
  {
   "cell_type": "code",
   "execution_count": 7,
   "metadata": {},
   "outputs": [],
   "source": [
    "def generate_training_data_plot(module, validation=True, training=False):\n",
    "    labels = tuple(range(1, len(module.validation_fitness)+1))\n",
    "    traces = []\n",
    "    if validation:\n",
    "        data = tuple(module.validation_fitness)\n",
    "        traces += [go.Scatter(x=labels, y=data, mode=\"lines+markers\", name=f\"{module.ID} Validaiton set\")] \n",
    "    if training: \n",
    "        data = tuple(module.fitness)\n",
    "        traces += [go.Scatter(x=labels, y=data, mode=\"lines+markers\", name=f\"{module.ID} Training set\")] \n",
    "    return traces"
   ]
  },
  {
   "cell_type": "code",
   "execution_count": 9,
   "metadata": {},
   "outputs": [
    {
     "ename": "SyntaxError",
     "evalue": "invalid syntax (<ipython-input-9-c028f04573bd>, line 13)",
     "traceback": [
      "\u001b[0;36m  File \u001b[0;32m\"<ipython-input-9-c028f04573bd>\"\u001b[0;36m, line \u001b[0;32m13\u001b[0m\n\u001b[0;31m    \"layout\": go.Layout(barmode='group', yaxis=dict())\u001b[0m\n\u001b[0m            ^\u001b[0m\n\u001b[0;31mSyntaxError\u001b[0m\u001b[0;31m:\u001b[0m invalid syntax\n"
     ],
     "output_type": "error"
    }
   ],
   "source": [
    "survivers = []\n",
    "for key, group in all_modules_grouped.items():\n",
    "    for module in group: # type: Module\n",
    "        if os.path.isfile(module.absolute_save_path(config) + \"/model.h5\"):\n",
    "            survivers += [module]\n",
    "\n",
    "traces = []\n",
    "for s in survivers: traces += generate_training_data_plot(s)\n",
    "plotly.offline.iplot({\"data\": traces })"
   ]
  },
  {
   "cell_type": "markdown",
   "metadata": {},
   "source": [
    "## Interpreting results per training session: \n",
    "Looking at the average gains/losses of performance per class over multiple training sessions below. Gains are positive numbers while losses are negative... "
   ]
  },
  {
   "cell_type": "code",
   "execution_count": null,
   "metadata": {},
   "outputs": [],
   "source": [
    "# Changes over training sessions:\n",
    "diff_dicts = [\n",
    "    rfn.score_changes_per_training_session(df) \n",
    "    for df in rfn.find_multi_session_reports(reports)\n",
    "]\n",
    "pd.concat(diff_dicts).mean()"
   ]
  },
  {
   "cell_type": "markdown",
   "metadata": {},
   "source": [
    "### Plot of change per training session\n",
    "Splitting reports by training session number:"
   ]
  },
  {
   "cell_type": "code",
   "execution_count": null,
   "metadata": {
    "scrolled": true
   },
   "outputs": [],
   "source": [
    "multi_session_reports = list(rfn.find_multi_session_reports(reports))"
   ]
  },
  {
   "cell_type": "markdown",
   "metadata": {},
   "source": [
    "## Looking into training history for a single individ:\n",
    "* Subject of interst is the specimin 'Galina'\n",
    "* Contains 5 versions"
   ]
  },
  {
   "cell_type": "code",
   "execution_count": null,
   "metadata": {},
   "outputs": [],
   "source": [
    "versions = all_modules_grouped['Anne-sofie']\n",
    "versions.sort(key=lambda x: x.version)\n",
    "print([x.ID for x in versions])\n",
    "v0 = versions[0] # Selecting Galina v0"
   ]
  },
  {
   "cell_type": "code",
   "execution_count": null,
   "metadata": {},
   "outputs": [],
   "source": [
    "traces = []\n",
    "for v in versions: traces += generate_training_data_plot(v)\n",
    "plotly.offline.iplot({\"data\": traces })"
   ]
  },
  {
   "cell_type": "markdown",
   "metadata": {},
   "source": [
    "### Validation accuary plot for transerring leaning"
   ]
  },
  {
   "cell_type": "code",
   "execution_count": null,
   "metadata": {
    "scrolled": false
   },
   "outputs": [],
   "source": [
    "def generate_training_plot_for_transfer_learning(modules):\n",
    "    traces = []\n",
    "    prev_end_training = 0\n",
    "    for i, module in enumerate(tree):\n",
    "        labels = tuple(range(prev_end_training, len(module.validation_fitness) + prev_end_training))\n",
    "        trn = module.fitness\n",
    "        val = module.validation_fitness\n",
    "        traces += [go.Scatter(x=labels, y=trn, mode=\"lines+markers\", name=f\"Training, {module.name} v{i}\")]\n",
    "        traces += [go.Scatter(x=labels, y=val, mode=\"lines+markers\", name=f\"Validation, {module.name} v{i}\")]\n",
    "        prev_end_training = len(tree[0].validation_fitness) -1\n",
    "    return traces\n",
    "\n",
    "\n",
    "def find_longest_predecessor_range(modules):\n",
    "    def dive(module):\n",
    "        res = [module]\n",
    "        if module.predecessor:\n",
    "            return dive(module.predecessor) + res\n",
    "        return res\n",
    "    _max = 0\n",
    "    longest_tree = []\n",
    "    for module in modules:\n",
    "        tree = dive(module)\n",
    "        if len(tree) > _max:\n",
    "            _max = len(tree)\n",
    "            longest_tree = tree\n",
    "    \n",
    "    return longest_tree\n",
    "    \n",
    "    \n",
    "tree = find_longest_predecessor_range(versions)\n",
    "baseline = go.Scatter(y=tuple([0.82]*31), x=tuple(range(0, 31)), name=\"Baseline\")\n",
    "plotly.offline.iplot({\n",
    "    \"data\": generate_training_plot_for_transfer_learning(tree) + [baseline], \n",
    "    \"layout\": go.Layout()\n",
    "})"
   ]
  },
  {
   "cell_type": "code",
   "execution_count": null,
   "metadata": {},
   "outputs": [],
   "source": [
    "fn.create_images(tree, config)"
   ]
  },
  {
   "cell_type": "code",
   "execution_count": null,
   "metadata": {},
   "outputs": [],
   "source": [
    "## classified = [\"0\", \"1\", \"2\", \"3\", \"4\", \"5\", \"6\", \"7\", \"8\", \"9\"]\n",
    "for epoch_generated, report in v0.report.items():\n",
    "    print(report[classified[3]]['precision'])"
   ]
  },
  {
   "cell_type": "code",
   "execution_count": null,
   "metadata": {},
   "outputs": [],
   "source": [
    "plotly.offline.iplot({\n",
    "     traces,\n",
    "    \"layout\": go.Layout(barmode='group', yaxis=dict())\n",
    "})"
   ]
  }
 ],
 "metadata": {
  "kernelspec": {
   "display_name": "Python 3",
   "language": "python",
   "name": "python3"
  },
  "language_info": {
   "codemirror_mode": {
    "name": "ipython",
    "version": 3
   },
   "file_extension": ".py",
   "mimetype": "text/x-python",
   "name": "python",
   "nbconvert_exporter": "python",
   "pygments_lexer": "ipython3",
   "version": "3.6.4"
  }
 },
 "nbformat": 4,
 "nbformat_minor": 1
}
