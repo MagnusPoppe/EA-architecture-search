{
 "cells": [
  {
   "cell_type": "code",
   "execution_count": 1,
   "metadata": {},
   "outputs": [
    {
     "data": {
      "text/html": [
       "<script type=\"text/javascript\">window.PlotlyConfig = {MathJaxConfig: 'local'};</script><script type=\"text/javascript\">if (window.MathJax) {MathJax.Hub.Config({SVG: {font: \"STIX-Web\"}});}</script><script>requirejs.config({paths: { 'plotly': ['https://cdn.plot.ly/plotly-latest.min']},});if(!window._Plotly) {require(['plotly'],function(plotly) {window._Plotly=plotly;});}</script>"
      ],
      "text/vnd.plotly.v1+html": [
       "<script type=\"text/javascript\">window.PlotlyConfig = {MathJaxConfig: 'local'};</script><script type=\"text/javascript\">if (window.MathJax) {MathJax.Hub.Config({SVG: {font: \"STIX-Web\"}});}</script><script>requirejs.config({paths: { 'plotly': ['https://cdn.plot.ly/plotly-latest.min']},});if(!window._Plotly) {require(['plotly'],function(plotly) {window._Plotly=plotly;});}</script>"
      ]
     },
     "metadata": {},
     "output_type": "display_data"
    }
   ],
   "source": [
    "import os\n",
    "if not os.path.basename(os.getcwd()) in [\"ea-nas\", \"EA-architecture-search\"]:\n",
    "    os.chdir(\"../\")\n",
    "\n",
    "\n",
    "import sys\n",
    "import pandas as pd\n",
    "import LAB.common as fn\n",
    "import LAB.report_functions as rfn\n",
    "from src.configuration import Configuration\n",
    "\n",
    "import plotly\n",
    "import plotly.graph_objs as go\n",
    "\n",
    "plotly.offline.init_notebook_mode(connected=True)"
   ]
  },
  {
   "cell_type": "markdown",
   "metadata": {},
   "source": [
    "# INTERPRETATION OF EA-NAS RESULTS\n",
    "This notebook is meant to interpret the results of simulations ran using EA-NAS.\n",
    "* Analyzes multiple individs\n",
    "* Groups individs by their versions\n",
    "\n",
    "Look at the common.py file for more functions to use for analysis"
   ]
  },
  {
   "cell_type": "markdown",
   "metadata": {},
   "source": [
    "## Load in simulation results: \n",
    "\n",
    "Set the correct paths to: \n",
    "* Configuraiton file with settings for the simulation\n",
    "* Path to results save directory"
   ]
  },
  {
   "cell_type": "code",
   "execution_count": 2,
   "metadata": {},
   "outputs": [],
   "source": [
    "# Configuration file:\n",
    "config_file = \"./LAB/notebook.json\""
   ]
  },
  {
   "cell_type": "code",
   "execution_count": 3,
   "metadata": {},
   "outputs": [
    {
     "name": "stdout",
     "output_type": "stream",
     "text": [
      "Loaded 110 modules\n"
     ]
    }
   ],
   "source": [
    "# Load configuration used:\n",
    "config = Configuration.from_json(config_file)\n",
    "\n",
    "# Loads all modules from a given run:\n",
    "all_modules_grouped = fn.load_all_modules_from_run(f\"./results/{config.results_name}\")\n",
    "\n",
    "# Reporting on what modules are loaded: \n",
    "print(f\"Loaded {sum([len(val) for val in all_modules_grouped.values()])} modules\")"
   ]
  },
  {
   "cell_type": "code",
   "execution_count": 4,
   "metadata": {},
   "outputs": [
    {
     "name": "stdout",
     "output_type": "stream",
     "text": [
      "Loaded 76 reports\n"
     ]
    }
   ],
   "source": [
    "reports = {}\n",
    "for name, modules in all_modules_grouped.items():\n",
    "    reports[name] = {\n",
    "        m.version: fn.progress_report(m.report, m.ID) \n",
    "        for m in modules if m.report\n",
    "    }\n",
    "print(f\"Loaded {sum([len(val) for val in reports.values()])} reports\")"
   ]
  },
  {
   "cell_type": "code",
   "execution_count": 5,
   "metadata": {},
   "outputs": [
    {
     "name": "stdout",
     "output_type": "stream",
     "text": [
      "\tTone with versions [v0]\n",
      "\tLeonora with versions [v0]\n",
      "\tMahad with versions [v0, v2, v4]\n",
      "\tIne with versions [v0]\n",
      "\tPedro with versions [v0, v2]\n",
      "\tBergit with versions [v0]\n",
      "\tAsma with versions [v0]\n",
      "\tElisa with versions [v6, v8, v0, v2, v4]\n",
      "\tRolandas with versions [v0]\n",
      "\tMaximilian with versions [v0]\n",
      "\tVera with versions [v0, v2]\n",
      "\tToralf with versions [v0]\n",
      "\tBerit with versions [v0, v2, v4]\n",
      "\tHenny with versions [v0]\n",
      "\tTiril with versions [v0]\n",
      "\tArild with versions [v0]\n",
      "\tAgnar with versions [v0]\n",
      "\tGalina with versions [v6, v8, v0, v2, v4]\n",
      "\tThor with versions [v0]\n",
      "\tBorgar with versions [v0, v2]\n",
      "\tRebekka with versions [v0, v2, v4]\n",
      "\tIris with versions [v6, v8, v0, v2, v4]\n",
      "\tEgil with versions [v0]\n",
      "\tTorgeir with versions [v0]\n",
      "\tJudit with versions [v0]\n",
      "\tPreben with versions [v0]\n",
      "\tJo with versions [v0, v2]\n",
      "\tSophia with versions [v0]\n",
      "\tRicardo with versions [v0, v2]\n",
      "\tRobert with versions [v0]\n",
      "\tKatrine with versions [v0]\n",
      "\tAnn-karin with versions [v0]\n",
      "\tAnne-mari with versions [v0]\n",
      "\tMette with versions [v0, v2]\n",
      "\tDorthea with versions [v0, v2]\n",
      "\tVladimir with versions [v0]\n",
      "\tUnni with versions [v0]\n",
      "\tEivind with versions [v0]\n",
      "\tAnne-sofie with versions [v0, v2, v4]\n",
      "\tAlv with versions [v0, v2]\n",
      "\tAbdi with versions [v0, v2, v4]\n",
      "\tAndres with versions [v0]\n",
      "\tStephanie with versions [v0]\n",
      "\tHenriette with versions [v0, v2]\n",
      "\tVilhelm with versions [v0]\n",
      "\tBertine with versions [v0]\n",
      "\tIman with versions [v0]\n",
      "\tHenrik with versions [v0, v2, v4]\n",
      "\tHallvard with versions [v0]\n",
      "\tAbdullah with versions [v0]\n",
      "\tHaavard with versions [v0]\n",
      "\tThoralf with versions [v0]\n",
      "\tKathrine with versions [v0, v2]\n",
      "\tKarstein with versions [v0]\n",
      "\tArnljot with versions [v0, v2, v4]\n",
      "\tNaima with versions [v0, v2, v4]\n",
      "\tGudrun with versions [v0]\n",
      "\tCarine with versions [v0]\n",
      "\tRakel with versions [v0, v2, v4]\n",
      "\tAdriana with versions [v0]\n",
      "\tEndre with versions [v0]\n",
      "\tStorm with versions [v0]\n",
      "\tKjersti with versions [v0]\n",
      "\tAbdullahi with versions [v0]\n",
      "\tSigvart with versions [v0, v2, v4]\n",
      "\tJurgita with versions [v0]\n",
      "\tSylvia with versions [v0, v2]\n"
     ]
    }
   ],
   "source": [
    "# Modules loaded: \n",
    "for key, val in all_modules_grouped.items():\n",
    "    print(f\"\\t{key} with versions [v{', v'.join([str(m.version) for m in val])}]\")"
   ]
  },
  {
   "cell_type": "markdown",
   "metadata": {},
   "source": [
    "## Interpreting results per training session: \n",
    "Looking at the average gains/losses of performance per class over multiple training sessions below. Gains are positive numbers while losses are negative... "
   ]
  },
  {
   "cell_type": "code",
   "execution_count": 6,
   "metadata": {},
   "outputs": [
    {
     "data": {
      "text/plain": [
       "0, Airplane     -0.087494\n",
       "1, Automobile   -0.089008\n",
       "2, Bird         -0.061009\n",
       "3, Cat          -0.031157\n",
       "4, Deer         -0.053435\n",
       "5, Dog          -0.066961\n",
       "6, Frog         -0.076448\n",
       "7, Horse        -0.076904\n",
       "8, Ship         -0.068366\n",
       "9, Truck        -0.074044\n",
       "micro avg       -0.062773\n",
       "macro avg       -0.068483\n",
       "weighted avg    -0.068483\n",
       "dtype: float64"
      ]
     },
     "execution_count": 6,
     "metadata": {},
     "output_type": "execute_result"
    }
   ],
   "source": [
    "# Changes over training sessions:\n",
    "diff_dicts = [\n",
    "    rfn.score_changes_per_training_session(df) \n",
    "    for df in rfn.find_multi_session_reports(reports)\n",
    "]\n",
    "pd.concat(diff_dicts).mean()"
   ]
  },
  {
   "cell_type": "markdown",
   "metadata": {},
   "source": [
    "### Plot of change per training session\n",
    "Splitting reports by training session number:"
   ]
  },
  {
   "cell_type": "code",
   "execution_count": 7,
   "metadata": {
    "scrolled": true
   },
   "outputs": [],
   "source": [
    "multi_session_reports = list(rfn.find_multi_session_reports(reports))"
   ]
  },
  {
   "cell_type": "markdown",
   "metadata": {},
   "source": [
    "## Looking into training history for a single individ:\n",
    "* Subject of interst is the specimin 'Galina'\n",
    "* Contains 5 versions"
   ]
  },
  {
   "cell_type": "code",
   "execution_count": 8,
   "metadata": {},
   "outputs": [
    {
     "name": "stdout",
     "output_type": "stream",
     "text": [
      "['Anne-sofie v0', 'Anne-sofie v2', 'Anne-sofie v4']\n"
     ]
    }
   ],
   "source": [
    "versions = all_modules_grouped['Anne-sofie']\n",
    "versions.sort(key=lambda x: x.version)\n",
    "print([x.ID for x in versions])\n",
    "v0 = versions[0] # Selecting Galina v0"
   ]
  },
  {
   "cell_type": "code",
   "execution_count": 9,
   "metadata": {},
   "outputs": [],
   "source": [
    "def generate_training_data_plot(module, validation=True, training=False):\n",
    "    labels = tuple(range(1, len(module.validation_fitness)+1))\n",
    "    traces = []\n",
    "    if validation:\n",
    "        data = tuple(module.validation_fitness)\n",
    "        traces += [go.Scatter(x=labels, y=data, mode=\"lines+markers\", name=f\"{module.ID} Validaiton set\")] \n",
    "    if training: \n",
    "        data = tuple(module.fitness)\n",
    "        traces += [go.Scatter(x=labels, y=data, mode=\"lines+markers\", name=f\"{module.ID} Training set\")] \n",
    "    return traces"
   ]
  },
  {
   "cell_type": "code",
   "execution_count": 10,
   "metadata": {},
   "outputs": [
    {
     "data": {
      "application/vnd.plotly.v1+json": {
       "config": {
        "linkText": "Export to plot.ly",
        "plotlyServerURL": "https://plot.ly",
        "showLink": false
       },
       "data": [
        {
         "mode": "lines+markers",
         "name": "Anne-sofie v0 Validaiton set",
         "type": "scatter",
         "uid": "b23d2f08-73c5-4c53-8ee6-61492a9faacf",
         "x": [
          1,
          2,
          3,
          4,
          5,
          6,
          7,
          8,
          9,
          10,
          11
         ],
         "y": [
          0.5385999994277955,
          0.5387999994754791,
          0.5443999989032745,
          0.5109999961853028,
          0.5039999980926514,
          0.5057999961376191,
          0.5027999997138977,
          0.5041999983787536,
          0.512399995803833,
          0.5037999963760376,
          0.5169999976158142
         ]
        },
        {
         "mode": "lines+markers",
         "name": "Anne-sofie v2 Validaiton set",
         "type": "scatter",
         "uid": "b617c141-881e-4588-904c-3dbb50860142",
         "x": [
          1,
          2,
          3
         ],
         "y": [
          0.5109999978542328,
          0.5163999984264374,
          0.5069999983310699
         ]
        },
        {
         "mode": "lines+markers",
         "name": "Anne-sofie v4 Validaiton set",
         "type": "scatter",
         "uid": "59dedcca-c5eb-4131-b565-ca8a12a6a0af",
         "x": [
          1,
          2,
          3,
          4,
          5,
          6,
          7,
          8,
          9,
          10,
          11,
          12,
          13,
          14,
          15,
          16,
          17,
          18,
          19
         ],
         "y": [
          0.0958000013679266,
          0.09760000136494637,
          0.09860000175237656,
          0.4273999980688095,
          0.451399998664856,
          0.5017999970912933,
          0.5017999973297119,
          0.4861999967098236,
          0.10640000122785569,
          0.0958000013679266,
          0.0970000014603138,
          0.10240000157058239,
          0.09760000136494637,
          0.09500000159442425,
          0.0970000014603138,
          0.5177999963760376,
          0.5227999966144562,
          0.5059999976158142,
          0.5197999980449677
         ]
        }
       ],
       "layout": {}
      },
      "text/html": [
       "<div id=\"5fe85354-3ba5-4979-9fde-2ab7a2c541c8\" style=\"height: 525px; width: 100%;\" class=\"plotly-graph-div\"></div><script type=\"text/javascript\">require([\"plotly\"], function(Plotly) { window.PLOTLYENV=window.PLOTLYENV || {};window.PLOTLYENV.BASE_URL=\"https://plot.ly\";\n",
       "if (document.getElementById(\"5fe85354-3ba5-4979-9fde-2ab7a2c541c8\")) {\n",
       "    Plotly.newPlot(\"5fe85354-3ba5-4979-9fde-2ab7a2c541c8\", [{\"mode\": \"lines+markers\", \"name\": \"Anne-sofie v0 Validaiton set\", \"x\": [1, 2, 3, 4, 5, 6, 7, 8, 9, 10, 11], \"y\": [0.5385999994277955, 0.5387999994754791, 0.5443999989032745, 0.5109999961853028, 0.5039999980926514, 0.5057999961376191, 0.5027999997138977, 0.5041999983787536, 0.512399995803833, 0.5037999963760376, 0.5169999976158142], \"type\": \"scatter\", \"uid\": \"44e8aae3-07e8-4d90-a5b7-69c5250aa3a0\"}, {\"mode\": \"lines+markers\", \"name\": \"Anne-sofie v2 Validaiton set\", \"x\": [1, 2, 3], \"y\": [0.5109999978542328, 0.5163999984264374, 0.5069999983310699], \"type\": \"scatter\", \"uid\": \"b1a90850-c8ef-4515-9d45-86983a8a0e5f\"}, {\"mode\": \"lines+markers\", \"name\": \"Anne-sofie v4 Validaiton set\", \"x\": [1, 2, 3, 4, 5, 6, 7, 8, 9, 10, 11, 12, 13, 14, 15, 16, 17, 18, 19], \"y\": [0.0958000013679266, 0.09760000136494637, 0.09860000175237656, 0.4273999980688095, 0.451399998664856, 0.5017999970912933, 0.5017999973297119, 0.4861999967098236, 0.10640000122785569, 0.0958000013679266, 0.0970000014603138, 0.10240000157058239, 0.09760000136494637, 0.09500000159442425, 0.0970000014603138, 0.5177999963760376, 0.5227999966144562, 0.5059999976158142, 0.5197999980449677], \"type\": \"scatter\", \"uid\": \"4afe54f9-462e-4d0e-8ae6-bdecd256862a\"}], {}, {\"showLink\": false, \"linkText\": \"Export to plot.ly\", \"plotlyServerURL\": \"https://plot.ly\"}); \n",
       "}\n",
       "});</script><script type=\"text/javascript\">window.addEventListener(\"resize\", function(){if (document.getElementById(\"5fe85354-3ba5-4979-9fde-2ab7a2c541c8\")) {window._Plotly.Plots.resize(document.getElementById(\"5fe85354-3ba5-4979-9fde-2ab7a2c541c8\"));};})</script>"
      ],
      "text/vnd.plotly.v1+html": [
       "<div id=\"5fe85354-3ba5-4979-9fde-2ab7a2c541c8\" style=\"height: 525px; width: 100%;\" class=\"plotly-graph-div\"></div><script type=\"text/javascript\">require([\"plotly\"], function(Plotly) { window.PLOTLYENV=window.PLOTLYENV || {};window.PLOTLYENV.BASE_URL=\"https://plot.ly\";\n",
       "if (document.getElementById(\"5fe85354-3ba5-4979-9fde-2ab7a2c541c8\")) {\n",
       "    Plotly.newPlot(\"5fe85354-3ba5-4979-9fde-2ab7a2c541c8\", [{\"mode\": \"lines+markers\", \"name\": \"Anne-sofie v0 Validaiton set\", \"x\": [1, 2, 3, 4, 5, 6, 7, 8, 9, 10, 11], \"y\": [0.5385999994277955, 0.5387999994754791, 0.5443999989032745, 0.5109999961853028, 0.5039999980926514, 0.5057999961376191, 0.5027999997138977, 0.5041999983787536, 0.512399995803833, 0.5037999963760376, 0.5169999976158142], \"type\": \"scatter\", \"uid\": \"44e8aae3-07e8-4d90-a5b7-69c5250aa3a0\"}, {\"mode\": \"lines+markers\", \"name\": \"Anne-sofie v2 Validaiton set\", \"x\": [1, 2, 3], \"y\": [0.5109999978542328, 0.5163999984264374, 0.5069999983310699], \"type\": \"scatter\", \"uid\": \"b1a90850-c8ef-4515-9d45-86983a8a0e5f\"}, {\"mode\": \"lines+markers\", \"name\": \"Anne-sofie v4 Validaiton set\", \"x\": [1, 2, 3, 4, 5, 6, 7, 8, 9, 10, 11, 12, 13, 14, 15, 16, 17, 18, 19], \"y\": [0.0958000013679266, 0.09760000136494637, 0.09860000175237656, 0.4273999980688095, 0.451399998664856, 0.5017999970912933, 0.5017999973297119, 0.4861999967098236, 0.10640000122785569, 0.0958000013679266, 0.0970000014603138, 0.10240000157058239, 0.09760000136494637, 0.09500000159442425, 0.0970000014603138, 0.5177999963760376, 0.5227999966144562, 0.5059999976158142, 0.5197999980449677], \"type\": \"scatter\", \"uid\": \"4afe54f9-462e-4d0e-8ae6-bdecd256862a\"}], {}, {\"showLink\": false, \"linkText\": \"Export to plot.ly\", \"plotlyServerURL\": \"https://plot.ly\"}); \n",
       "}\n",
       "});</script><script type=\"text/javascript\">window.addEventListener(\"resize\", function(){if (document.getElementById(\"5fe85354-3ba5-4979-9fde-2ab7a2c541c8\")) {window._Plotly.Plots.resize(document.getElementById(\"5fe85354-3ba5-4979-9fde-2ab7a2c541c8\"));};})</script>"
      ]
     },
     "metadata": {},
     "output_type": "display_data"
    }
   ],
   "source": [
    "traces = []\n",
    "for v in versions: traces += generate_training_data_plot(v)\n",
    "plotly.offline.iplot({\"data\": traces })"
   ]
  },
  {
   "cell_type": "markdown",
   "metadata": {},
   "source": [
    "### Validation accuary plot for transerring leaning"
   ]
  },
  {
   "cell_type": "code",
   "execution_count": 22,
   "metadata": {
    "scrolled": false
   },
   "outputs": [
    {
     "data": {
      "application/vnd.plotly.v1+json": {
       "config": {
        "linkText": "Export to plot.ly",
        "plotlyServerURL": "https://plot.ly",
        "showLink": false
       },
       "data": [
        {
         "mode": "lines+markers",
         "name": "Training, Anne-sofie v0",
         "type": "scatter",
         "uid": "753856d7-9990-4ed3-8eb3-a0b4ff28ca29",
         "x": [
          0,
          1,
          2,
          3,
          4,
          5,
          6,
          7,
          8,
          9,
          10,
          11,
          12
         ],
         "y": [
          0.5828888881736332,
          0.6029999991522895,
          0.6169999985429976,
          0.535288887500763,
          0.5412666641076406,
          0.5535555534362793,
          0.5629555539025201,
          0.5712222201294369,
          0.5780666664176517,
          0.5856666654215918,
          0.5938888872464498,
          0.4455777754386266,
          0.5710444426006741
         ]
        },
        {
         "mode": "lines+markers",
         "name": "Validation, Anne-sofie v0",
         "type": "scatter",
         "uid": "d6b30d76-28e4-4bbb-b982-1fe557fc72d4",
         "x": [
          0,
          1,
          2,
          3,
          4,
          5,
          6,
          7,
          8,
          9,
          10,
          11,
          12
         ],
         "y": [
          0.5385999994277955,
          0.5387999994754791,
          0.5443999989032745,
          0.5109999961853028,
          0.5039999980926514,
          0.5057999961376191,
          0.5027999997138977,
          0.5041999983787536,
          0.512399995803833,
          0.5037999963760376,
          0.5169999976158142,
          0.513999997138977,
          0.5895999979972839
         ]
        },
        {
         "mode": "lines+markers",
         "name": "Training, Anne-sofie v1",
         "type": "scatter",
         "uid": "af471d42-36e2-4954-8f4f-47a0a2d5f3a2",
         "x": [
          12,
          13,
          14,
          15,
          16,
          17,
          18
         ],
         "y": [
          0.8096666670905219,
          0.817622222688463,
          0.8257555564774407,
          0.47453333156473104,
          0.5751777758598328,
          0.6237111106713613,
          0.6583333337306976
         ]
        },
        {
         "mode": "lines+markers",
         "name": "Validation, Anne-sofie v1",
         "type": "scatter",
         "uid": "bd6282d0-c30f-4b93-96ad-8623b5c8a9dc",
         "x": [
          12,
          13,
          14,
          15,
          16,
          17,
          18
         ],
         "y": [
          0.5109999978542328,
          0.5163999984264374,
          0.5069999983310699,
          0.5563999984264374,
          0.5887999999523162,
          0.6349999969005584,
          0.6733999998569489
         ]
        },
        {
         "mode": "lines+markers",
         "name": "Training, Anne-sofie v2",
         "type": "scatter",
         "uid": "9007cf44-b3de-44ad-a620-b1ea9aa6fc80",
         "x": [
          12,
          13,
          14,
          15,
          16,
          17,
          18,
          19,
          20,
          21,
          22,
          23,
          24,
          25,
          26,
          27,
          28,
          29,
          30
         ],
         "y": [
          0.09811111260950565,
          0.09973333483934402,
          0.09777777931259739,
          0.3958222212791443,
          0.43584444260597227,
          0.8681999995973375,
          0.8689111109309726,
          0.8731111108991835,
          0.09782222378585073,
          0.09886666820612218,
          0.10013333489994208,
          0.10100000154972076,
          0.0978666682690382,
          0.09802222373584907,
          0.09677777937551339,
          0.5777555547555288,
          0.5936666649977366,
          0.6066222219467163,
          0.6200888879828983
         ]
        },
        {
         "mode": "lines+markers",
         "name": "Validation, Anne-sofie v2",
         "type": "scatter",
         "uid": "a7496864-4738-4ce2-982d-5d9a357bb916",
         "x": [
          12,
          13,
          14,
          15,
          16,
          17,
          18,
          19,
          20,
          21,
          22,
          23,
          24,
          25,
          26,
          27,
          28,
          29,
          30
         ],
         "y": [
          0.0958000013679266,
          0.09760000136494637,
          0.09860000175237656,
          0.4273999980688095,
          0.451399998664856,
          0.5017999970912933,
          0.5017999973297119,
          0.4861999967098236,
          0.10640000122785569,
          0.0958000013679266,
          0.0970000014603138,
          0.10240000157058239,
          0.09760000136494637,
          0.09500000159442425,
          0.0970000014603138,
          0.5177999963760376,
          0.5227999966144562,
          0.5059999976158142,
          0.5197999980449677
         ]
        },
        {
         "name": "Baseline",
         "type": "scatter",
         "uid": "1cb47e4d-6f88-46f7-98f1-ba9a0c7219e4",
         "x": [
          0,
          1,
          2,
          3,
          4,
          5,
          6,
          7,
          8,
          9,
          10,
          11,
          12,
          13,
          14,
          15,
          16,
          17,
          18,
          19,
          20,
          21,
          22,
          23,
          24,
          25,
          26,
          27,
          28,
          29,
          30
         ],
         "y": [
          0.82,
          0.82,
          0.82,
          0.82,
          0.82,
          0.82,
          0.82,
          0.82,
          0.82,
          0.82,
          0.82,
          0.82,
          0.82,
          0.82,
          0.82,
          0.82,
          0.82,
          0.82,
          0.82,
          0.82,
          0.82,
          0.82,
          0.82,
          0.82,
          0.82,
          0.82,
          0.82,
          0.82,
          0.82,
          0.82,
          0.82
         ]
        }
       ],
       "layout": {}
      },
      "text/html": [
       "<div id=\"4803a9cb-4ab2-434b-9169-7936ea95761a\" style=\"height: 525px; width: 100%;\" class=\"plotly-graph-div\"></div><script type=\"text/javascript\">require([\"plotly\"], function(Plotly) { window.PLOTLYENV=window.PLOTLYENV || {};window.PLOTLYENV.BASE_URL=\"https://plot.ly\";\n",
       "if (document.getElementById(\"4803a9cb-4ab2-434b-9169-7936ea95761a\")) {\n",
       "    Plotly.newPlot(\"4803a9cb-4ab2-434b-9169-7936ea95761a\", [{\"mode\": \"lines+markers\", \"name\": \"Training, Anne-sofie v0\", \"x\": [0, 1, 2, 3, 4, 5, 6, 7, 8, 9, 10, 11, 12], \"y\": [0.5828888881736332, 0.6029999991522895, 0.6169999985429976, 0.535288887500763, 0.5412666641076406, 0.5535555534362793, 0.5629555539025201, 0.5712222201294369, 0.5780666664176517, 0.5856666654215918, 0.5938888872464498, 0.4455777754386266, 0.5710444426006741], \"type\": \"scatter\", \"uid\": \"fe46cedb-58db-443a-b13b-38581e39e90f\"}, {\"mode\": \"lines+markers\", \"name\": \"Validation, Anne-sofie v0\", \"x\": [0, 1, 2, 3, 4, 5, 6, 7, 8, 9, 10, 11, 12], \"y\": [0.5385999994277955, 0.5387999994754791, 0.5443999989032745, 0.5109999961853028, 0.5039999980926514, 0.5057999961376191, 0.5027999997138977, 0.5041999983787536, 0.512399995803833, 0.5037999963760376, 0.5169999976158142, 0.513999997138977, 0.5895999979972839], \"type\": \"scatter\", \"uid\": \"c6ccdbda-66a1-4042-bccb-be0fc55c566f\"}, {\"mode\": \"lines+markers\", \"name\": \"Training, Anne-sofie v1\", \"x\": [12, 13, 14, 15, 16, 17, 18], \"y\": [0.8096666670905219, 0.817622222688463, 0.8257555564774407, 0.47453333156473104, 0.5751777758598328, 0.6237111106713613, 0.6583333337306976], \"type\": \"scatter\", \"uid\": \"5473d846-8e88-4a01-944e-b78de7a50dfd\"}, {\"mode\": \"lines+markers\", \"name\": \"Validation, Anne-sofie v1\", \"x\": [12, 13, 14, 15, 16, 17, 18], \"y\": [0.5109999978542328, 0.5163999984264374, 0.5069999983310699, 0.5563999984264374, 0.5887999999523162, 0.6349999969005584, 0.6733999998569489], \"type\": \"scatter\", \"uid\": \"3d2e31cf-cbed-409b-bdaa-875d976c4e8b\"}, {\"mode\": \"lines+markers\", \"name\": \"Training, Anne-sofie v2\", \"x\": [12, 13, 14, 15, 16, 17, 18, 19, 20, 21, 22, 23, 24, 25, 26, 27, 28, 29, 30], \"y\": [0.09811111260950565, 0.09973333483934402, 0.09777777931259739, 0.3958222212791443, 0.43584444260597227, 0.8681999995973375, 0.8689111109309726, 0.8731111108991835, 0.09782222378585073, 0.09886666820612218, 0.10013333489994208, 0.10100000154972076, 0.0978666682690382, 0.09802222373584907, 0.09677777937551339, 0.5777555547555288, 0.5936666649977366, 0.6066222219467163, 0.6200888879828983], \"type\": \"scatter\", \"uid\": \"b4b8815b-0572-4820-8720-be7f6d05219b\"}, {\"mode\": \"lines+markers\", \"name\": \"Validation, Anne-sofie v2\", \"x\": [12, 13, 14, 15, 16, 17, 18, 19, 20, 21, 22, 23, 24, 25, 26, 27, 28, 29, 30], \"y\": [0.0958000013679266, 0.09760000136494637, 0.09860000175237656, 0.4273999980688095, 0.451399998664856, 0.5017999970912933, 0.5017999973297119, 0.4861999967098236, 0.10640000122785569, 0.0958000013679266, 0.0970000014603138, 0.10240000157058239, 0.09760000136494637, 0.09500000159442425, 0.0970000014603138, 0.5177999963760376, 0.5227999966144562, 0.5059999976158142, 0.5197999980449677], \"type\": \"scatter\", \"uid\": \"e86d13cf-eb84-4636-847d-aa57ef990ada\"}, {\"name\": \"Baseline\", \"x\": [0, 1, 2, 3, 4, 5, 6, 7, 8, 9, 10, 11, 12, 13, 14, 15, 16, 17, 18, 19, 20, 21, 22, 23, 24, 25, 26, 27, 28, 29, 30], \"y\": [0.82, 0.82, 0.82, 0.82, 0.82, 0.82, 0.82, 0.82, 0.82, 0.82, 0.82, 0.82, 0.82, 0.82, 0.82, 0.82, 0.82, 0.82, 0.82, 0.82, 0.82, 0.82, 0.82, 0.82, 0.82, 0.82, 0.82, 0.82, 0.82, 0.82, 0.82], \"type\": \"scatter\", \"uid\": \"97405370-77a4-44c3-88b5-6d6da09a09cc\"}], {}, {\"showLink\": false, \"linkText\": \"Export to plot.ly\", \"plotlyServerURL\": \"https://plot.ly\"}); \n",
       "}\n",
       "});</script><script type=\"text/javascript\">window.addEventListener(\"resize\", function(){if (document.getElementById(\"4803a9cb-4ab2-434b-9169-7936ea95761a\")) {window._Plotly.Plots.resize(document.getElementById(\"4803a9cb-4ab2-434b-9169-7936ea95761a\"));};})</script>"
      ],
      "text/vnd.plotly.v1+html": [
       "<div id=\"4803a9cb-4ab2-434b-9169-7936ea95761a\" style=\"height: 525px; width: 100%;\" class=\"plotly-graph-div\"></div><script type=\"text/javascript\">require([\"plotly\"], function(Plotly) { window.PLOTLYENV=window.PLOTLYENV || {};window.PLOTLYENV.BASE_URL=\"https://plot.ly\";\n",
       "if (document.getElementById(\"4803a9cb-4ab2-434b-9169-7936ea95761a\")) {\n",
       "    Plotly.newPlot(\"4803a9cb-4ab2-434b-9169-7936ea95761a\", [{\"mode\": \"lines+markers\", \"name\": \"Training, Anne-sofie v0\", \"x\": [0, 1, 2, 3, 4, 5, 6, 7, 8, 9, 10, 11, 12], \"y\": [0.5828888881736332, 0.6029999991522895, 0.6169999985429976, 0.535288887500763, 0.5412666641076406, 0.5535555534362793, 0.5629555539025201, 0.5712222201294369, 0.5780666664176517, 0.5856666654215918, 0.5938888872464498, 0.4455777754386266, 0.5710444426006741], \"type\": \"scatter\", \"uid\": \"fe46cedb-58db-443a-b13b-38581e39e90f\"}, {\"mode\": \"lines+markers\", \"name\": \"Validation, Anne-sofie v0\", \"x\": [0, 1, 2, 3, 4, 5, 6, 7, 8, 9, 10, 11, 12], \"y\": [0.5385999994277955, 0.5387999994754791, 0.5443999989032745, 0.5109999961853028, 0.5039999980926514, 0.5057999961376191, 0.5027999997138977, 0.5041999983787536, 0.512399995803833, 0.5037999963760376, 0.5169999976158142, 0.513999997138977, 0.5895999979972839], \"type\": \"scatter\", \"uid\": \"c6ccdbda-66a1-4042-bccb-be0fc55c566f\"}, {\"mode\": \"lines+markers\", \"name\": \"Training, Anne-sofie v1\", \"x\": [12, 13, 14, 15, 16, 17, 18], \"y\": [0.8096666670905219, 0.817622222688463, 0.8257555564774407, 0.47453333156473104, 0.5751777758598328, 0.6237111106713613, 0.6583333337306976], \"type\": \"scatter\", \"uid\": \"5473d846-8e88-4a01-944e-b78de7a50dfd\"}, {\"mode\": \"lines+markers\", \"name\": \"Validation, Anne-sofie v1\", \"x\": [12, 13, 14, 15, 16, 17, 18], \"y\": [0.5109999978542328, 0.5163999984264374, 0.5069999983310699, 0.5563999984264374, 0.5887999999523162, 0.6349999969005584, 0.6733999998569489], \"type\": \"scatter\", \"uid\": \"3d2e31cf-cbed-409b-bdaa-875d976c4e8b\"}, {\"mode\": \"lines+markers\", \"name\": \"Training, Anne-sofie v2\", \"x\": [12, 13, 14, 15, 16, 17, 18, 19, 20, 21, 22, 23, 24, 25, 26, 27, 28, 29, 30], \"y\": [0.09811111260950565, 0.09973333483934402, 0.09777777931259739, 0.3958222212791443, 0.43584444260597227, 0.8681999995973375, 0.8689111109309726, 0.8731111108991835, 0.09782222378585073, 0.09886666820612218, 0.10013333489994208, 0.10100000154972076, 0.0978666682690382, 0.09802222373584907, 0.09677777937551339, 0.5777555547555288, 0.5936666649977366, 0.6066222219467163, 0.6200888879828983], \"type\": \"scatter\", \"uid\": \"b4b8815b-0572-4820-8720-be7f6d05219b\"}, {\"mode\": \"lines+markers\", \"name\": \"Validation, Anne-sofie v2\", \"x\": [12, 13, 14, 15, 16, 17, 18, 19, 20, 21, 22, 23, 24, 25, 26, 27, 28, 29, 30], \"y\": [0.0958000013679266, 0.09760000136494637, 0.09860000175237656, 0.4273999980688095, 0.451399998664856, 0.5017999970912933, 0.5017999973297119, 0.4861999967098236, 0.10640000122785569, 0.0958000013679266, 0.0970000014603138, 0.10240000157058239, 0.09760000136494637, 0.09500000159442425, 0.0970000014603138, 0.5177999963760376, 0.5227999966144562, 0.5059999976158142, 0.5197999980449677], \"type\": \"scatter\", \"uid\": \"e86d13cf-eb84-4636-847d-aa57ef990ada\"}, {\"name\": \"Baseline\", \"x\": [0, 1, 2, 3, 4, 5, 6, 7, 8, 9, 10, 11, 12, 13, 14, 15, 16, 17, 18, 19, 20, 21, 22, 23, 24, 25, 26, 27, 28, 29, 30], \"y\": [0.82, 0.82, 0.82, 0.82, 0.82, 0.82, 0.82, 0.82, 0.82, 0.82, 0.82, 0.82, 0.82, 0.82, 0.82, 0.82, 0.82, 0.82, 0.82, 0.82, 0.82, 0.82, 0.82, 0.82, 0.82, 0.82, 0.82, 0.82, 0.82, 0.82, 0.82], \"type\": \"scatter\", \"uid\": \"97405370-77a4-44c3-88b5-6d6da09a09cc\"}], {}, {\"showLink\": false, \"linkText\": \"Export to plot.ly\", \"plotlyServerURL\": \"https://plot.ly\"}); \n",
       "}\n",
       "});</script><script type=\"text/javascript\">window.addEventListener(\"resize\", function(){if (document.getElementById(\"4803a9cb-4ab2-434b-9169-7936ea95761a\")) {window._Plotly.Plots.resize(document.getElementById(\"4803a9cb-4ab2-434b-9169-7936ea95761a\"));};})</script>"
      ]
     },
     "metadata": {},
     "output_type": "display_data"
    }
   ],
   "source": [
    "def generate_training_plot_for_transfer_learning(modules):\n",
    "    traces = []\n",
    "    prev_end_training = 0\n",
    "    for i, module in enumerate(tree):\n",
    "        labels = tuple(range(prev_end_training, len(module.validation_fitness) + prev_end_training))\n",
    "        trn = module.fitness\n",
    "        val = module.validation_fitness\n",
    "        traces += [go.Scatter(x=labels, y=trn, mode=\"lines+markers\", name=f\"Training, {module.name} v{i}\")]\n",
    "        traces += [go.Scatter(x=labels, y=val, mode=\"lines+markers\", name=f\"Validation, {module.name} v{i}\")]\n",
    "        prev_end_training = len(tree[0].validation_fitness) -1\n",
    "    return traces\n",
    "\n",
    "\n",
    "def find_longest_predecessor_range(modules):\n",
    "    def dive(module):\n",
    "        res = [module]\n",
    "        if module.predecessor:\n",
    "            return dive(module.predecessor) + res\n",
    "        return res\n",
    "    _max = 0\n",
    "    longest_tree = []\n",
    "    for module in modules:\n",
    "        tree = dive(module)\n",
    "        if len(tree) > _max:\n",
    "            _max = len(tree)\n",
    "            longest_tree = tree\n",
    "    \n",
    "    return longest_tree\n",
    "    \n",
    "    \n",
    "tree = find_longest_predecessor_range(versions)\n",
    "baseline = go.Scatter(y=tuple([0.82]*31), x=tuple(range(0, 31)), name=\"Baseline\")\n",
    "plotly.offline.iplot({\n",
    "    \"data\": generate_training_plot_for_transfer_learning(tree) + [baseline], \n",
    "    \"layout\": go.Layout()\n",
    "})"
   ]
  },
  {
   "cell_type": "code",
   "execution_count": 12,
   "metadata": {},
   "outputs": [
    {
     "ename": "TypeError",
     "evalue": "_save_kears_model_images() takes 1 positional argument but 3 were given",
     "output_type": "error",
     "traceback": [
      "\u001b[0;31m---------------------------------------------------------------------------\u001b[0m",
      "\u001b[0;31mRemoteTraceback\u001b[0m                           Traceback (most recent call last)",
      "\u001b[0;31mRemoteTraceback\u001b[0m: \n\"\"\"\nTraceback (most recent call last):\n  File \"/anaconda3/lib/python3.6/multiprocessing/pool.py\", line 119, in worker\n    result = (True, func(*args, **kwds))\nTypeError: _save_kears_model_images() takes 1 positional argument but 3 were given\n\"\"\"",
      "\nThe above exception was the direct cause of the following exception:\n",
      "\u001b[0;31mTypeError\u001b[0m                                 Traceback (most recent call last)",
      "\u001b[0;32m<ipython-input-12-b195ad4042cf>\u001b[0m in \u001b[0;36m<module>\u001b[0;34m()\u001b[0m\n\u001b[0;32m----> 1\u001b[0;31m \u001b[0mfn\u001b[0m\u001b[0;34m.\u001b[0m\u001b[0mcreate_images\u001b[0m\u001b[0;34m(\u001b[0m\u001b[0mtree\u001b[0m\u001b[0;34m,\u001b[0m \u001b[0mconfig\u001b[0m\u001b[0;34m)\u001b[0m\u001b[0;34m\u001b[0m\u001b[0m\n\u001b[0m",
      "\u001b[0;32m/Users/magnus/Projects/Python/EA-architecture-search/LAB/common.py\u001b[0m in \u001b[0;36mcreate_images\u001b[0;34m(individs, config)\u001b[0m\n\u001b[1;32m     48\u001b[0m     \u001b[0mmapper\u001b[0m \u001b[0;34m=\u001b[0m \u001b[0mpool\u001b[0m\u001b[0;34m.\u001b[0m\u001b[0mapply_async\u001b[0m\u001b[0;34m(\u001b[0m\u001b[0m_save_kears_model_images\u001b[0m\u001b[0;34m,\u001b[0m \u001b[0margs\u001b[0m\u001b[0;34m=\u001b[0m\u001b[0margs\u001b[0m\u001b[0;34m)\u001b[0m\u001b[0;34m\u001b[0m\u001b[0m\n\u001b[1;32m     49\u001b[0m     \u001b[0mpool\u001b[0m\u001b[0;34m.\u001b[0m\u001b[0mclose\u001b[0m\u001b[0;34m(\u001b[0m\u001b[0;34m)\u001b[0m\u001b[0;34m\u001b[0m\u001b[0m\n\u001b[0;32m---> 50\u001b[0;31m     \u001b[0mresults\u001b[0m \u001b[0;34m=\u001b[0m \u001b[0mmapper\u001b[0m\u001b[0;34m.\u001b[0m\u001b[0mget\u001b[0m\u001b[0;34m(\u001b[0m\u001b[0;34m)\u001b[0m\u001b[0;34m\u001b[0m\u001b[0m\n\u001b[0m\u001b[1;32m     51\u001b[0m     \u001b[0;32mfor\u001b[0m \u001b[0mi\u001b[0m \u001b[0;32min\u001b[0m \u001b[0mrange\u001b[0m\u001b[0;34m(\u001b[0m\u001b[0mlen\u001b[0m\u001b[0;34m(\u001b[0m\u001b[0mindivids\u001b[0m\u001b[0;34m)\u001b[0m\u001b[0;34m)\u001b[0m\u001b[0;34m:\u001b[0m\u001b[0;34m\u001b[0m\u001b[0m\n\u001b[1;32m     52\u001b[0m         \u001b[0mindivids\u001b[0m\u001b[0;34m[\u001b[0m\u001b[0mi\u001b[0m\u001b[0;34m]\u001b[0m\u001b[0;34m.\u001b[0m\u001b[0mmodel_image_path\u001b[0m \u001b[0;34m=\u001b[0m \u001b[0mresults\u001b[0m\u001b[0;34m[\u001b[0m\u001b[0mi\u001b[0m\u001b[0;34m]\u001b[0m\u001b[0;34m\u001b[0m\u001b[0m\n",
      "\u001b[0;32m/anaconda3/lib/python3.6/multiprocessing/pool.py\u001b[0m in \u001b[0;36mget\u001b[0;34m(self, timeout)\u001b[0m\n\u001b[1;32m    642\u001b[0m             \u001b[0;32mreturn\u001b[0m \u001b[0mself\u001b[0m\u001b[0;34m.\u001b[0m\u001b[0m_value\u001b[0m\u001b[0;34m\u001b[0m\u001b[0m\n\u001b[1;32m    643\u001b[0m         \u001b[0;32melse\u001b[0m\u001b[0;34m:\u001b[0m\u001b[0;34m\u001b[0m\u001b[0m\n\u001b[0;32m--> 644\u001b[0;31m             \u001b[0;32mraise\u001b[0m \u001b[0mself\u001b[0m\u001b[0;34m.\u001b[0m\u001b[0m_value\u001b[0m\u001b[0;34m\u001b[0m\u001b[0m\n\u001b[0m\u001b[1;32m    645\u001b[0m \u001b[0;34m\u001b[0m\u001b[0m\n\u001b[1;32m    646\u001b[0m     \u001b[0;32mdef\u001b[0m \u001b[0m_set\u001b[0m\u001b[0;34m(\u001b[0m\u001b[0mself\u001b[0m\u001b[0;34m,\u001b[0m \u001b[0mi\u001b[0m\u001b[0;34m,\u001b[0m \u001b[0mobj\u001b[0m\u001b[0;34m)\u001b[0m\u001b[0;34m:\u001b[0m\u001b[0;34m\u001b[0m\u001b[0m\n",
      "\u001b[0;31mTypeError\u001b[0m: _save_kears_model_images() takes 1 positional argument but 3 were given"
     ]
    }
   ],
   "source": [
    "fn.create_images(tree, config)"
   ]
  },
  {
   "cell_type": "code",
   "execution_count": null,
   "metadata": {},
   "outputs": [],
   "source": [
    "## classified = [\"0\", \"1\", \"2\", \"3\", \"4\", \"5\", \"6\", \"7\", \"8\", \"9\"]\n",
    "for epoch_generated, report in v0.report.items():\n",
    "    print(report[classified[3]]['precision'])"
   ]
  },
  {
   "cell_type": "code",
   "execution_count": 11,
   "metadata": {},
   "outputs": [
    {
     "data": {
      "application/vnd.plotly.v1+json": {
       "config": {
        "linkText": "Export to plot.ly",
        "plotlyServerURL": "https://plot.ly",
        "showLink": false
       },
       "data": [
        {
         "name": "Training session 0",
         "type": "bar",
         "uid": "02499dd8-0309-4026-8a2c-18e7a60e0e59",
         "x": [
          "0, Airplane",
          "1, Automobile",
          "2, Bird",
          "3, Cat",
          "4, Deer",
          "5, Dog",
          "6, Frog",
          "7, Horse",
          "8, Ship",
          "9, Truck",
          "micro avg",
          "macro avg",
          "weighted avg"
         ],
         "y": [
          0.34724612703229696
         ]
        },
        {
         "name": "Training session 1",
         "type": "bar",
         "uid": "8e61b83f-dd87-4526-b23c-58bdbf3b1377",
         "x": [
          "0, Airplane",
          "1, Automobile",
          "2, Bird",
          "3, Cat",
          "4, Deer",
          "5, Dog",
          "6, Frog",
          "7, Horse",
          "8, Ship",
          "9, Truck",
          "micro avg",
          "macro avg",
          "weighted avg"
         ],
         "y": [
          0.3322334169109608
         ]
        },
        {
         "name": "Training session 2",
         "type": "bar",
         "uid": "95a69344-9bb0-46db-b74c-7bb6bb387b3f",
         "x": [
          "0, Airplane",
          "1, Automobile",
          "2, Bird",
          "3, Cat",
          "4, Deer",
          "5, Dog",
          "6, Frog",
          "7, Horse",
          "8, Ship",
          "9, Truck",
          "micro avg",
          "macro avg",
          "weighted avg"
         ],
         "y": [
          0.2212517971326409
         ]
        },
        {
         "name": "Training session 3",
         "type": "bar",
         "uid": "9d0d0627-9e46-4d7a-9c94-e2f368fb63fb",
         "x": [
          "0, Airplane",
          "1, Automobile",
          "2, Bird",
          "3, Cat",
          "4, Deer",
          "5, Dog",
          "6, Frog",
          "7, Horse",
          "8, Ship",
          "9, Truck",
          "micro avg",
          "macro avg",
          "weighted avg"
         ],
         "y": [
          0.3167708761008783
         ]
        },
        {
         "name": "Training session 4",
         "type": "bar",
         "uid": "ab3d992d-4ab9-48e7-af23-718ec261bfbc",
         "x": [
          "0, Airplane",
          "1, Automobile",
          "2, Bird",
          "3, Cat",
          "4, Deer",
          "5, Dog",
          "6, Frog",
          "7, Horse",
          "8, Ship",
          "9, Truck",
          "micro avg",
          "macro avg",
          "weighted avg"
         ],
         "y": [
          0.3113784145698073
         ]
        },
        {
         "name": "Training session 5",
         "type": "bar",
         "uid": "54690da6-42ed-450f-9fd1-73a46ee647b0",
         "x": [
          "0, Airplane",
          "1, Automobile",
          "2, Bird",
          "3, Cat",
          "4, Deer",
          "5, Dog",
          "6, Frog",
          "7, Horse",
          "8, Ship",
          "9, Truck",
          "micro avg",
          "macro avg",
          "weighted avg"
         ],
         "y": [
          0.19321319348704674
         ]
        },
        {
         "name": "Training session 6",
         "type": "bar",
         "uid": "a061598d-18d9-4620-8005-116fb3427138",
         "x": [
          "0, Airplane",
          "1, Automobile",
          "2, Bird",
          "3, Cat",
          "4, Deer",
          "5, Dog",
          "6, Frog",
          "7, Horse",
          "8, Ship",
          "9, Truck",
          "micro avg",
          "macro avg",
          "weighted avg"
         ],
         "y": [
          0.3172799270030076
         ]
        },
        {
         "name": "Training session 7",
         "type": "bar",
         "uid": "cd8743a1-b356-4071-8300-0f554a803222",
         "x": [
          "0, Airplane",
          "1, Automobile",
          "2, Bird",
          "3, Cat",
          "4, Deer",
          "5, Dog",
          "6, Frog",
          "7, Horse",
          "8, Ship",
          "9, Truck",
          "micro avg",
          "macro avg",
          "weighted avg"
         ],
         "y": [
          0.01
         ]
        },
        {
         "name": "Training session 8",
         "type": "bar",
         "uid": "71c1f9c3-9ac6-42fc-818f-1d9c5f9f43e5",
         "x": [
          "0, Airplane",
          "1, Automobile",
          "2, Bird",
          "3, Cat",
          "4, Deer",
          "5, Dog",
          "6, Frog",
          "7, Horse",
          "8, Ship",
          "9, Truck",
          "micro avg",
          "macro avg",
          "weighted avg"
         ],
         "y": [
          0.01
         ]
        },
        {
         "name": "Training session 9",
         "type": "bar",
         "uid": "c843b54f-ac62-4eab-b681-ded3bf85a3db",
         "x": [
          "0, Airplane",
          "1, Automobile",
          "2, Bird",
          "3, Cat",
          "4, Deer",
          "5, Dog",
          "6, Frog",
          "7, Horse",
          "8, Ship",
          "9, Truck",
          "micro avg",
          "macro avg",
          "weighted avg"
         ],
         "y": [
          0.4650369192991697
         ]
        }
       ],
       "layout": {
        "barmode": "group"
       }
      },
      "text/html": [
       "<div id=\"c2de6f0f-4a16-452a-8061-a430d13e36fe\" style=\"height: 525px; width: 100%;\" class=\"plotly-graph-div\"></div><script type=\"text/javascript\">require([\"plotly\"], function(Plotly) { window.PLOTLYENV=window.PLOTLYENV || {};window.PLOTLYENV.BASE_URL=\"https://plot.ly\";\n",
       "if (document.getElementById(\"c2de6f0f-4a16-452a-8061-a430d13e36fe\")) {\n",
       "    Plotly.newPlot(\"c2de6f0f-4a16-452a-8061-a430d13e36fe\", [{\"name\": \"Training session 0\", \"x\": [\"0, Airplane\", \"1, Automobile\", \"2, Bird\", \"3, Cat\", \"4, Deer\", \"5, Dog\", \"6, Frog\", \"7, Horse\", \"8, Ship\", \"9, Truck\", \"micro avg\", \"macro avg\", \"weighted avg\"], \"y\": [0.34724612703229696], \"type\": \"bar\", \"uid\": \"7e926904-a875-4507-85bc-fd7b00ac32ae\"}, {\"name\": \"Training session 1\", \"x\": [\"0, Airplane\", \"1, Automobile\", \"2, Bird\", \"3, Cat\", \"4, Deer\", \"5, Dog\", \"6, Frog\", \"7, Horse\", \"8, Ship\", \"9, Truck\", \"micro avg\", \"macro avg\", \"weighted avg\"], \"y\": [0.3322334169109608], \"type\": \"bar\", \"uid\": \"3df91541-2fde-4449-91d9-771bc5795947\"}, {\"name\": \"Training session 2\", \"x\": [\"0, Airplane\", \"1, Automobile\", \"2, Bird\", \"3, Cat\", \"4, Deer\", \"5, Dog\", \"6, Frog\", \"7, Horse\", \"8, Ship\", \"9, Truck\", \"micro avg\", \"macro avg\", \"weighted avg\"], \"y\": [0.2212517971326409], \"type\": \"bar\", \"uid\": \"20a4c430-e7d6-4c74-9be0-10a347647a04\"}, {\"name\": \"Training session 3\", \"x\": [\"0, Airplane\", \"1, Automobile\", \"2, Bird\", \"3, Cat\", \"4, Deer\", \"5, Dog\", \"6, Frog\", \"7, Horse\", \"8, Ship\", \"9, Truck\", \"micro avg\", \"macro avg\", \"weighted avg\"], \"y\": [0.3167708761008783], \"type\": \"bar\", \"uid\": \"88428778-0ac3-4d6b-aaeb-72bd83789d06\"}, {\"name\": \"Training session 4\", \"x\": [\"0, Airplane\", \"1, Automobile\", \"2, Bird\", \"3, Cat\", \"4, Deer\", \"5, Dog\", \"6, Frog\", \"7, Horse\", \"8, Ship\", \"9, Truck\", \"micro avg\", \"macro avg\", \"weighted avg\"], \"y\": [0.3113784145698073], \"type\": \"bar\", \"uid\": \"b0bad2d8-c648-4c06-98a4-1eb70d7f8a90\"}, {\"name\": \"Training session 5\", \"x\": [\"0, Airplane\", \"1, Automobile\", \"2, Bird\", \"3, Cat\", \"4, Deer\", \"5, Dog\", \"6, Frog\", \"7, Horse\", \"8, Ship\", \"9, Truck\", \"micro avg\", \"macro avg\", \"weighted avg\"], \"y\": [0.19321319348704674], \"type\": \"bar\", \"uid\": \"3279a136-7a74-4806-afee-a09250822c15\"}, {\"name\": \"Training session 6\", \"x\": [\"0, Airplane\", \"1, Automobile\", \"2, Bird\", \"3, Cat\", \"4, Deer\", \"5, Dog\", \"6, Frog\", \"7, Horse\", \"8, Ship\", \"9, Truck\", \"micro avg\", \"macro avg\", \"weighted avg\"], \"y\": [0.3172799270030076], \"type\": \"bar\", \"uid\": \"ad8d1a7f-858f-40dd-b753-9bd775c4ffb7\"}, {\"name\": \"Training session 7\", \"x\": [\"0, Airplane\", \"1, Automobile\", \"2, Bird\", \"3, Cat\", \"4, Deer\", \"5, Dog\", \"6, Frog\", \"7, Horse\", \"8, Ship\", \"9, Truck\", \"micro avg\", \"macro avg\", \"weighted avg\"], \"y\": [0.01], \"type\": \"bar\", \"uid\": \"eb63703d-60cb-4243-8be0-6fa4e2ef508a\"}, {\"name\": \"Training session 8\", \"x\": [\"0, Airplane\", \"1, Automobile\", \"2, Bird\", \"3, Cat\", \"4, Deer\", \"5, Dog\", \"6, Frog\", \"7, Horse\", \"8, Ship\", \"9, Truck\", \"micro avg\", \"macro avg\", \"weighted avg\"], \"y\": [0.01], \"type\": \"bar\", \"uid\": \"13f39ed3-8258-4d3d-9be2-e755a1616c1f\"}, {\"name\": \"Training session 9\", \"x\": [\"0, Airplane\", \"1, Automobile\", \"2, Bird\", \"3, Cat\", \"4, Deer\", \"5, Dog\", \"6, Frog\", \"7, Horse\", \"8, Ship\", \"9, Truck\", \"micro avg\", \"macro avg\", \"weighted avg\"], \"y\": [0.4650369192991697], \"type\": \"bar\", \"uid\": \"226f3171-a0f1-456e-9520-3bf913f0cbeb\"}], {\"barmode\": \"group\"}, {\"showLink\": false, \"linkText\": \"Export to plot.ly\", \"plotlyServerURL\": \"https://plot.ly\"}); \n",
       "}\n",
       "});</script><script type=\"text/javascript\">window.addEventListener(\"resize\", function(){if (document.getElementById(\"c2de6f0f-4a16-452a-8061-a430d13e36fe\")) {window._Plotly.Plots.resize(document.getElementById(\"c2de6f0f-4a16-452a-8061-a430d13e36fe\"));};})</script>"
      ],
      "text/vnd.plotly.v1+html": [
       "<div id=\"c2de6f0f-4a16-452a-8061-a430d13e36fe\" style=\"height: 525px; width: 100%;\" class=\"plotly-graph-div\"></div><script type=\"text/javascript\">require([\"plotly\"], function(Plotly) { window.PLOTLYENV=window.PLOTLYENV || {};window.PLOTLYENV.BASE_URL=\"https://plot.ly\";\n",
       "if (document.getElementById(\"c2de6f0f-4a16-452a-8061-a430d13e36fe\")) {\n",
       "    Plotly.newPlot(\"c2de6f0f-4a16-452a-8061-a430d13e36fe\", [{\"name\": \"Training session 0\", \"x\": [\"0, Airplane\", \"1, Automobile\", \"2, Bird\", \"3, Cat\", \"4, Deer\", \"5, Dog\", \"6, Frog\", \"7, Horse\", \"8, Ship\", \"9, Truck\", \"micro avg\", \"macro avg\", \"weighted avg\"], \"y\": [0.34724612703229696], \"type\": \"bar\", \"uid\": \"7e926904-a875-4507-85bc-fd7b00ac32ae\"}, {\"name\": \"Training session 1\", \"x\": [\"0, Airplane\", \"1, Automobile\", \"2, Bird\", \"3, Cat\", \"4, Deer\", \"5, Dog\", \"6, Frog\", \"7, Horse\", \"8, Ship\", \"9, Truck\", \"micro avg\", \"macro avg\", \"weighted avg\"], \"y\": [0.3322334169109608], \"type\": \"bar\", \"uid\": \"3df91541-2fde-4449-91d9-771bc5795947\"}, {\"name\": \"Training session 2\", \"x\": [\"0, Airplane\", \"1, Automobile\", \"2, Bird\", \"3, Cat\", \"4, Deer\", \"5, Dog\", \"6, Frog\", \"7, Horse\", \"8, Ship\", \"9, Truck\", \"micro avg\", \"macro avg\", \"weighted avg\"], \"y\": [0.2212517971326409], \"type\": \"bar\", \"uid\": \"20a4c430-e7d6-4c74-9be0-10a347647a04\"}, {\"name\": \"Training session 3\", \"x\": [\"0, Airplane\", \"1, Automobile\", \"2, Bird\", \"3, Cat\", \"4, Deer\", \"5, Dog\", \"6, Frog\", \"7, Horse\", \"8, Ship\", \"9, Truck\", \"micro avg\", \"macro avg\", \"weighted avg\"], \"y\": [0.3167708761008783], \"type\": \"bar\", \"uid\": \"88428778-0ac3-4d6b-aaeb-72bd83789d06\"}, {\"name\": \"Training session 4\", \"x\": [\"0, Airplane\", \"1, Automobile\", \"2, Bird\", \"3, Cat\", \"4, Deer\", \"5, Dog\", \"6, Frog\", \"7, Horse\", \"8, Ship\", \"9, Truck\", \"micro avg\", \"macro avg\", \"weighted avg\"], \"y\": [0.3113784145698073], \"type\": \"bar\", \"uid\": \"b0bad2d8-c648-4c06-98a4-1eb70d7f8a90\"}, {\"name\": \"Training session 5\", \"x\": [\"0, Airplane\", \"1, Automobile\", \"2, Bird\", \"3, Cat\", \"4, Deer\", \"5, Dog\", \"6, Frog\", \"7, Horse\", \"8, Ship\", \"9, Truck\", \"micro avg\", \"macro avg\", \"weighted avg\"], \"y\": [0.19321319348704674], \"type\": \"bar\", \"uid\": \"3279a136-7a74-4806-afee-a09250822c15\"}, {\"name\": \"Training session 6\", \"x\": [\"0, Airplane\", \"1, Automobile\", \"2, Bird\", \"3, Cat\", \"4, Deer\", \"5, Dog\", \"6, Frog\", \"7, Horse\", \"8, Ship\", \"9, Truck\", \"micro avg\", \"macro avg\", \"weighted avg\"], \"y\": [0.3172799270030076], \"type\": \"bar\", \"uid\": \"ad8d1a7f-858f-40dd-b753-9bd775c4ffb7\"}, {\"name\": \"Training session 7\", \"x\": [\"0, Airplane\", \"1, Automobile\", \"2, Bird\", \"3, Cat\", \"4, Deer\", \"5, Dog\", \"6, Frog\", \"7, Horse\", \"8, Ship\", \"9, Truck\", \"micro avg\", \"macro avg\", \"weighted avg\"], \"y\": [0.01], \"type\": \"bar\", \"uid\": \"eb63703d-60cb-4243-8be0-6fa4e2ef508a\"}, {\"name\": \"Training session 8\", \"x\": [\"0, Airplane\", \"1, Automobile\", \"2, Bird\", \"3, Cat\", \"4, Deer\", \"5, Dog\", \"6, Frog\", \"7, Horse\", \"8, Ship\", \"9, Truck\", \"micro avg\", \"macro avg\", \"weighted avg\"], \"y\": [0.01], \"type\": \"bar\", \"uid\": \"13f39ed3-8258-4d3d-9be2-e755a1616c1f\"}, {\"name\": \"Training session 9\", \"x\": [\"0, Airplane\", \"1, Automobile\", \"2, Bird\", \"3, Cat\", \"4, Deer\", \"5, Dog\", \"6, Frog\", \"7, Horse\", \"8, Ship\", \"9, Truck\", \"micro avg\", \"macro avg\", \"weighted avg\"], \"y\": [0.4650369192991697], \"type\": \"bar\", \"uid\": \"226f3171-a0f1-456e-9520-3bf913f0cbeb\"}], {\"barmode\": \"group\"}, {\"showLink\": false, \"linkText\": \"Export to plot.ly\", \"plotlyServerURL\": \"https://plot.ly\"}); \n",
       "}\n",
       "});</script><script type=\"text/javascript\">window.addEventListener(\"resize\", function(){if (document.getElementById(\"c2de6f0f-4a16-452a-8061-a430d13e36fe\")) {window._Plotly.Plots.resize(document.getElementById(\"c2de6f0f-4a16-452a-8061-a430d13e36fe\"));};})</script>"
      ]
     },
     "metadata": {},
     "output_type": "display_data"
    }
   ],
   "source": [
    "plotly.offline.iplot({\n",
    "     traces,\n",
    "    \"layout\": go.Layout(barmode='group', yaxis=dict())\n",
    "})"
   ]
  }
 ],
 "metadata": {
  "kernelspec": {
   "display_name": "Python 3",
   "language": "python",
   "name": "python3"
  },
  "language_info": {
   "codemirror_mode": {
    "name": "ipython",
    "version": 3
   },
   "file_extension": ".py",
   "mimetype": "text/x-python",
   "name": "python",
   "nbconvert_exporter": "python",
   "pygments_lexer": "ipython3",
   "version": "3.6.4"
  }
 },
 "nbformat": 4,
 "nbformat_minor": 1
}
